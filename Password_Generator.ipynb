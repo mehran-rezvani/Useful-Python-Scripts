{
  "nbformat": 4,
  "nbformat_minor": 0,
  "metadata": {
    "colab": {
      "provenance": []
    },
    "kernelspec": {
      "name": "python3",
      "display_name": "Python 3"
    },
    "language_info": {
      "name": "python"
    }
  },
  "cells": [
    {
      "cell_type": "code",
      "execution_count": 2,
      "metadata": {
        "id": "D4eN9qS_nP1z"
      },
      "outputs": [],
      "source": [
        "# This simple Python project is using random and string package to generate a random string of a given length.\n",
        "import random\n",
        "import string\n",
        "total = string.ascii_letters + string.digits + string.punctuation\n",
        "length = 16\n",
        "password = \"\".join(random.sample(total, length))\n",
        "print(password)"
      ]
    },
    {
      "cell_type": "code",
      "source": [],
      "metadata": {
        "id": "zGcl6d9PtGpA"
      },
      "execution_count": null,
      "outputs": []
    }
  ]
}