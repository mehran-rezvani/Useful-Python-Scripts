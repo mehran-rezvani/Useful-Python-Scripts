{
  "nbformat": 4,
  "nbformat_minor": 0,
  "metadata": {
    "colab": {
      "provenance": []
    },
    "kernelspec": {
      "name": "python3",
      "display_name": "Python 3"
    },
    "language_info": {
      "name": "python"
    }
  },
  "cells": [
    {
      "cell_type": "code",
      "execution_count": 2,
      "metadata": {
        "id": "D4eN9qS_nP1z"
      },
      "outputs": [],
      "source": [
        "#This script will convert all JPG images to PNG and PNG images to JPG in the present directory tree\n",
        "#recursively (i.e. will change the format in images inside sub-directories too.)\n",
        "from PIL import Image\n",
        "import sys\n",
        "import os\n",
        "try:\n",
        "im = None\n",
        "for root, dirs, files in os.walk(\".\"):\n",
        "for filename in files:\n",
        "if filename.endswith('.jpg'):\n",
        "im = Image.open(filename).convert(\"RGB\")\n",
        "im.save(filename.replace('jpg', 'png'), \"png\")\n",
        "elif filename.endswith('.png'):\n",
        "im = Image.open(filename).convert(\"RGB\")\n",
        "im.save(filename.replace('png', 'jpg'), \"jpeg\")\n",
        "else:\n",
        "print('dont have image to convert')\n",
        "except IOError:\n",
        "print('directory empty!')\n",
        "sys.exit()"
      ]
    },
    {
      "cell_type": "code",
      "source": [],
      "metadata": {
        "id": "zGcl6d9PtGpA"
      },
      "execution_count": null,
      "outputs": []
    }
  ]
}