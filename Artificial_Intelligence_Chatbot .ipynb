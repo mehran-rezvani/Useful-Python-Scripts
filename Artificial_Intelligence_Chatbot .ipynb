{
  "nbformat": 4,
  "nbformat_minor": 0,
  "metadata": {
    "colab": {
      "provenance": []
    },
    "kernelspec": {
      "name": "python3",
      "display_name": "Python 3"
    },
    "language_info": {
      "name": "python"
    }
  },
  "cells": [
    {
      "cell_type": "code",
      "execution_count": null,
      "metadata": {
        "id": "D4eN9qS_nP1z"
      },
      "outputs": [],
      "source": [
        " # A chatbot (also known as a talkbot, chatterbot, Bot, IM bot, interactive agent, or Artificial Conversational\n",
        " # Entity) is a computer program or an artificial intelligence which conducts a conversation via auditory or\n",
        " # textual methods.\n",
        "\n",
        "\n",
        "import sys\n",
        "\n",
        "try:\n",
        "    import aiml  # Try importing the AIML module\n",
        "except ImportError:\n",
        "    print('[!] Failed to import the module')\n",
        "\n",
        "try:\n",
        "    # Prompt the user to attempt auto-installation of AIML\n",
        "    select = raw_input('[*] Attempt to auto-install AIML? [Y/n] ')\n",
        "except KeyboardInterrupt:\n",
        "    print('\\n[!] User Cancel')\n",
        "    sys.exit(5)\n",
        "\n",
        "if select.strip().lower()[0] == 'y':\n",
        "    print('[*] Trying to install AIML... ')\n",
        "    sys.stdout.flush()\n",
        "\n",
        "    try:\n",
        "        import pip\n",
        "        # Use pip to install AIML quietly (-q)\n",
        "        pip.main(['install', '-q', 'aiml'])\n",
        "        import aiml  # Re-import AIML after installation\n",
        "        print('Finished')\n",
        "    except Exception:\n",
        "        print('Something happened. Please check your internet connection')\n",
        "    sys.exit(5)\n",
        "elif select.strip().lower()[0] == 'n':\n",
        "    print('[*] User canceled auto-installation')\n",
        "    sys.exit(5)\n",
        "\n",
        "# Create an AIML kernel, load AIML files, and start the conversation loop\n",
        "kern = aiml.Kernel()\n",
        "kern.learn('load.xml')\n",
        "kern.respond('load aiml b')\n",
        "\n",
        "while True:\n",
        "    # Get user input and get AIML's response\n",
        "    user_input = raw_input('Type your message >> ')\n",
        "    print(kern.respond(user_input))\n"
      ]
    }
  ]
}