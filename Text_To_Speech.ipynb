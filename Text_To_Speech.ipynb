{
  "nbformat": 4,
  "nbformat_minor": 0,
  "metadata": {
    "colab": {
      "provenance": []
    },
    "kernelspec": {
      "name": "python3",
      "display_name": "Python 3"
    },
    "language_info": {
      "name": "python"
    }
  },
  "cells": [
    {
      "cell_type": "code",
      "execution_count": 2,
      "metadata": {
        "id": "D4eN9qS_nP1z"
      },
      "outputs": [],
      "source": [
        " #When executed the text from abc.txt will be turned into an mp3, saved, and then played on your device.\n",
        " #Prerequisites\n",
        " #abc.txt with your text\n",
        " #the gTTS==2.1.1 module (pip install gTTS to download)\n",
        " #the os module (pip install os)\n",
        " from gtts import gTTS\n",
        "import os\n",
        "file = open(\"abc.txt\", \"r\").read()\n",
        "speech = gTTS(text=file, lang='en', slow=False)\n",
        "speech.save(\"voice.mp3\")\n",
        "os.system(\"voice.mp3\")"
      ]
    },
    {
      "cell_type": "code",
      "source": [],
      "metadata": {
        "id": "zGcl6d9PtGpA"
      },
      "execution_count": null,
      "outputs": []
    }
  ]
}