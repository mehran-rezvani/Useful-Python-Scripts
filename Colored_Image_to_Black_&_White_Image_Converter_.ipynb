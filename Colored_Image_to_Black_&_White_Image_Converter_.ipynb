{
  "nbformat": 4,
  "nbformat_minor": 0,
  "metadata": {
    "colab": {
      "provenance": []
    },
    "kernelspec": {
      "name": "python3",
      "display_name": "Python 3"
    },
    "language_info": {
      "name": "python"
    }
  },
  "cells": [
    {
      "cell_type": "code",
      "execution_count": 2,
      "metadata": {
        "id": "D4eN9qS_nP1z"
      },
      "outputs": [],
      "source": [
        "#A simple Python script that takes a colored image filename as an argument and converts it into a grayscale\n",
        "#image and saves the output image file. It shows the basic usage of the Pillow library.\n",
        "$pip install Pillow\n",
        "$python bw_convert.py <image_file_name>\n",
        "import sys\n",
        "from PIL import Image\n",
        "from PIL.ExifTags import TAGS\n",
        "image_file = sys.argv[1]\n",
        "image_name = image_file.split(\".\")[0]\n",
        "try:\n",
        "image = Image.open(image_file)\n",
        "except IOError:\n",
        "print(\"Error in loading image!!\")\n",
        "sys.exit(1)\n",
        "bw_image = image.convert('L')\n",
        "bw_image.save(\"bw_\"+image_name+\".png\")"
      ]
    },
    {
      "cell_type": "code",
      "source": [],
      "metadata": {
        "id": "zGcl6d9PtGpA"
      },
      "execution_count": null,
      "outputs": []
    }
  ]
}