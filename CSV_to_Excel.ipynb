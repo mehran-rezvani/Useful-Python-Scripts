{
  "nbformat": 4,
  "nbformat_minor": 0,
  "metadata": {
    "colab": {
      "provenance": []
    },
    "kernelspec": {
      "name": "python3",
      "display_name": "Python 3"
    },
    "language_info": {
      "name": "python"
    }
  },
  "cells": [
    {
      "cell_type": "code",
      "execution_count": 2,
      "metadata": {
        "id": "D4eN9qS_nP1z"
      },
      "outputs": [],
      "source": [
        "# This programme writes the data in any Comma-separated value file (such as: .csv or .data) to a Excel file.\n",
        "$ pip install openpyxl\n",
        "$ python main.py\n",
        "#!python3\n",
        "# -*- coding: utf-8 -*-\n",
        "import openpyxl\n",
        "import sys\n",
        "#inputs\n",
        "print(\"This programme writes the data in any Comma-separated value file\n",
        "(such as: .csv or .data) to a Excel file.\")\n",
        "print(\"The input and output files must be in the same directory of the\n",
        "python file for the programme to work.\\n\")\n",
        "csv_name = input(\"Name of the CSV file for input (with the extension): \")\n",
        "sep = input(\"Seperator of the CSV file: \")\n",
        "excel_name = input(\"Name of the excel file for output (with the extension):\n",
        "\")\n",
        "sheet_name = input(\"Name of the excel sheet for output: \")\n",
        "#opening the files\n",
        "try:\n",
        "wb = openpyxl.load_workbook(excel_name)\n",
        "sheet = wb.get_sheet_by_name(sheet_name)\n",
        "file = open(csv_name,\"r\",encoding = \"utf-8\")\n",
        "except:\n",
        "print(\"File Error!\")\n",
        "sys.exit()\n",
        "#rows and columns\n",
        "row = 1\n",
        "column = 1\n",
        "#for each line in the file\n",
        "for line in file:\n",
        "#remove the \\n from the line and make it a list with the seperator\n",
        "line = line[:-1]\n",
        "line = line.split(sep)\n",
        "#for each data in the line\n",
        "for data in line:\n",
        "#write the data to the cell\n",
        "sheet.cell(row,column).value = data\n",
        "#after each data column number increases by 1\n",
        "column += 1\n",
        "#to write the next line column number is set to 1 and row number is\n",
        "increased by 1\n",
        "column = 1\n",
        "row += 1\n",
        "#saving the excel file and closing the csv file\n",
        "wb.save(excel_name)\n",
        "file.close()"
      ]
    },
    {
      "cell_type": "code",
      "source": [],
      "metadata": {
        "id": "zGcl6d9PtGpA"
      },
      "execution_count": null,
      "outputs": []
    }
  ]
}