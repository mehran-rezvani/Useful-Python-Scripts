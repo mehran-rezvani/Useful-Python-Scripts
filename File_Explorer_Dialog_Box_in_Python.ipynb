{
  "nbformat": 4,
  "nbformat_minor": 0,
  "metadata": {
    "colab": {
      "provenance": []
    },
    "kernelspec": {
      "name": "python3",
      "display_name": "Python 3"
    },
    "language_info": {
      "name": "python"
    }
  },
  "cells": [
    {
      "cell_type": "code",
      "execution_count": 2,
      "metadata": {
        "id": "D4eN9qS_nP1z"
      },
      "outputs": [],
      "source": [
        " #Open file explorer dialog box UI to select files using Python.\n",
        " import tkinter as tk\n",
        "from tkinter import filedialog\n",
        "root = tk.Tk()\n",
        "root.withdraw()\n",
        "file_path = filedialog.askopenfilename()\n",
        "print(file_path)"
      ]
    },
    {
      "cell_type": "code",
      "source": [],
      "metadata": {
        "id": "zGcl6d9PtGpA"
      },
      "execution_count": null,
      "outputs": []
    }
  ]
}