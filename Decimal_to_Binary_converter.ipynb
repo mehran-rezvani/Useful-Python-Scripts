{
  "nbformat": 4,
  "nbformat_minor": 0,
  "metadata": {
    "colab": {
      "provenance": []
    },
    "kernelspec": {
      "name": "python3",
      "display_name": "Python 3"
    },
    "language_info": {
      "name": "python"
    }
  },
  "cells": [
    {
      "cell_type": "code",
      "execution_count": 2,
      "metadata": {
        "id": "D4eN9qS_nP1z"
      },
      "outputs": [],
      "source": [
        " # A small python program that converts binary and decimal, and decimal to binary.\n",
        " try:\n",
        "menu = int(input(\"Choose an option: \\n 1. Decimal to binary \\n 2.\n",
        "Binary to decimal\\n Option: \"))\n",
        "if menu < 1 or menu > 2:\n",
        "raise ValueError\n",
        "if menu == 1:\n",
        "dec = int(input(\"Input your decimal number:\\nDecimal: \"))\n",
        "print(\"Binary: {}\".format(bin(dec)[2:]))\n",
        "elif menu == 2:\n",
        "binary = input(\"Input your binary number:\\n Binary: \")\n",
        "print(\"Decimal: {}\".format(int(binary, 2)))\n",
        "except ValueError:\n",
        "print (\"please choose a valid option\")"
      ]
    },
    {
      "cell_type": "code",
      "source": [],
      "metadata": {
        "id": "zGcl6d9PtGpA"
      },
      "execution_count": null,
      "outputs": []
    }
  ]
}