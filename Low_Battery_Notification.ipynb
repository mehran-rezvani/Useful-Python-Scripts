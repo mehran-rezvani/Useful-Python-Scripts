{
  "nbformat": 4,
  "nbformat_minor": 0,
  "metadata": {
    "colab": {
      "provenance": []
    },
    "kernelspec": {
      "name": "python3",
      "display_name": "Python 3"
    },
    "language_info": {
      "name": "python"
    }
  },
  "cells": [
    {
      "cell_type": "code",
      "execution_count": 2,
      "metadata": {
        "id": "D4eN9qS_nP1z"
      },
      "outputs": [],
      "source": [
        " # This python script displays a notice regarding the device’s battery percentage.\n",
        " !pip install psutil\n",
        " !pip install py-notifier\n",
        " !pip install win10toast\n",
        " !pip install psutil\n",
        " import psutil\n",
        " battery = psutil.sensors_battery()\n",
        " plugged = battery.power_plugged\n",
        " percent = battery.percent\n",
        " if percent <= 30 and plugged!=True:\n",
        " # pip install py-notifier\n",
        " # pip install win10toast\n",
        "   from pynotifier import Notification\n",
        "   Notification(\n",
        "     title=\"Battery Low\",\n",
        "     description=str(percent) + \"% Battery remain!!\",\n",
        "     duration=5, # Duration in seconds\n",
        "   ).send()"
      ]
    },
    {
      "cell_type": "code",
      "source": [],
      "metadata": {
        "id": "zGcl6d9PtGpA"
      },
      "execution_count": null,
      "outputs": []
    }
  ]
}