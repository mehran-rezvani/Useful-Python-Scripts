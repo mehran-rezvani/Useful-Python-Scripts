{
  "nbformat": 4,
  "nbformat_minor": 0,
  "metadata": {
    "colab": {
      "provenance": []
    },
    "kernelspec": {
      "name": "python3",
      "display_name": "Python 3"
    },
    "language_info": {
      "name": "python"
    }
  },
  "cells": [
    {
      "cell_type": "code",
      "execution_count": 2,
      "metadata": {
        "colab": {
          "base_uri": "https://localhost:8080/"
        },
        "id": "D4eN9qS_nP1z",
        "outputId": "ae2509a3-3495-4c33-b8d7-3cdd346e69ab"
      },
      "outputs": [
        {
          "output_type": "stream",
          "name": "stdout",
          "text": [
            "\u001b[31mERROR: Could not find a version that satisfies the requirement json (from versions: none)\u001b[0m\u001b[31m\n",
            "\u001b[0m\u001b[31mERROR: No matching distribution found for json\u001b[0m\u001b[31m\n",
            "\u001b[0m"
          ]
        }
      ],
      "source": [
        " # This script will convert your JSON data to a CSV file. It takes .json a file as input and provides .csv the\n",
        " # file as output.\n",
        " !pip install json"
      ]
    },
    {
      "cell_type": "code",
      "source": [
        "import json\n",
        "if __name__ == '__main__':\n",
        "try:\n",
        "with open('input.json', 'r') as f:\n",
        "data = json.loads(f.read())\n",
        "output = ','.join([*data[0]])\n",
        "for obj in data:\n",
        "output += f'\\n{obj[\"Name\"]},{obj[\"age\"]},{obj[\"birthyear\"]}'\n",
        "with open('output.csv', 'w') as f:\n",
        "f.write(output)\n",
        "except Exception as ex:\n",
        "print(f'Error: {str(ex)}')"
      ],
      "metadata": {
        "id": "zGcl6d9PtGpA"
      },
      "execution_count": null,
      "outputs": []
    }
  ]
}